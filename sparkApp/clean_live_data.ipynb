{
 "cells": [
  {
   "cell_type": "markdown",
   "id": "56e94600",
   "metadata": {},
   "source": [
    "CLEANING LIVE RAW DATA AND CONVERTING IT TO APPROPRIATE DATA TYPES"
   ]
  },
  {
   "cell_type": "code",
   "execution_count": 9,
   "id": "6bee6e5e",
   "metadata": {},
   "outputs": [],
   "source": [
    "#Imports\n",
    "\n",
    "from pyspark.sql import SparkSession\n",
    "from pyspark.sql.types import *\n",
    "from pyspark.sql.functions import *\n",
    "from datetime import datetime\n",
    "import os\n"
   ]
  },
  {
   "cell_type": "code",
   "execution_count": 10,
   "id": "1980fe0f",
   "metadata": {},
   "outputs": [],
   "source": [
    "#Spark Session Initialization\n",
    "\n",
    "spark = SparkSession.builder \\\n",
    "    .appName(\"clean_train_live_status\") \\\n",
    "    .config(\"spark.jars.packages\",\"io.delta:delta-spark_2.13:4.0.0\") \\\n",
    "    .config(\"spark.sql.extensions\",\"io.delta.sql.DeltaSparkSessionExtension\") \\\n",
    "    .config(\"spark.sql.catalog.spark_catalog\",\"org.apache.spark.sql.delta.catalog.DeltaCatalog\") \\\n",
    "    .config(\"spark.databricks.delta.properties.defaults.enableDeletionVectors\", \"true\") \\\n",
    "    .master(\"local[*]\") \\\n",
    "    .config(\"spark.sql.shuffle.partitions\", \"20\") \\\n",
    "    .getOrCreate()\n",
    "\n",
    "\n",
    "current_date = datetime.now().date()"
   ]
  },
  {
   "cell_type": "code",
   "execution_count": null,
   "id": "46cee161",
   "metadata": {},
   "outputs": [],
   "source": [
    "# Data Load\n",
    "\n",
    "df = spark.read.format(\"delta\")\\\n",
    "    .load(os.path.join(os.path.abspath(\"\"),f\"raw_data\\\\raw_live_data\\\\{current_date}\\\\trainlivestatus\"))"
   ]
  },
  {
   "cell_type": "code",
   "execution_count": null,
   "id": "0743c1ff",
   "metadata": {},
   "outputs": [
    {
     "name": "stdout",
     "output_type": "stream",
     "text": [
      "root\n",
      " |-- eventId: string (nullable = true)\n",
      " |-- trainId: string (nullable = true)\n",
      " |-- eventType: string (nullable = true)\n",
      " |-- stationCode: string (nullable = true)\n",
      " |-- distanceCovered: integer (nullable = true)\n",
      " |-- totalDistance: integer (nullable = true)\n",
      " |-- noOfDays: integer (nullable = true)\n",
      " |-- actualArrivalTime: string (nullable = true)\n",
      " |-- expectedArrivalTime: string (nullable = true)\n",
      " |-- actualDepartureTime: string (nullable = true)\n",
      " |-- expectedDepartureTime: string (nullable = true)\n",
      " |-- createdDate: timestamp (nullable = true)\n",
      "\n"
     ]
    }
   ],
   "source": [
    "# casting to appropriate types\n",
    "\n",
    "cleaned_df = df.withColumn(\"createdDate\",col(\"createdDate\").cast(TimestampType()))\\\n",
    "    .withColumn(\"distanceCovered\",col(\"distanceCovered\").cast(IntegerType()))\\\n",
    "    .withColumns({\"totalDistance\":col(\"totalDistance\").cast(IntegerType()),\n",
    "                  \"noOfDays\":col(\"noOfDays\").cast(IntegerType())})\n"
   ]
  },
  {
   "cell_type": "code",
   "execution_count": 100,
   "id": "fa3a5391",
   "metadata": {},
   "outputs": [],
   "source": [
    "# replacing NAN values in time columns with \"00:00\"\n",
    "\n",
    "# to_replace = is value to be replaced\n",
    "# value = is the value to replace with\n",
    "# subste = is the columns list to apply the replacement\n",
    "\n",
    "cleaned_new_df = cleaned_df\\\n",
    "    .na.replace(to_replace=['\"NaN\"',\"NaN\",\"Nan\",\"nan\",\"\"], value=\"00:00\",subset=[\"actualArrivalTime\",\"expectedArrivalTime\"])\n"
   ]
  },
  {
   "cell_type": "code",
   "execution_count": null,
   "id": "d7017e97",
   "metadata": {},
   "outputs": [],
   "source": [
    "df.write.format(\"delta\") \\\n",
    "    .mode(\"append\") \\\n",
    "    .partitionBy(\"createdDate\") \\\n",
    "    .save(os.path.join(os.path.abspath(\"\"),f\"silver_data\\\\live_data\\\\trainlivestatus_cleaned\"))"
   ]
  }
 ],
 "metadata": {
  "kernelspec": {
   "display_name": ".venv",
   "language": "python",
   "name": "python3"
  },
  "language_info": {
   "codemirror_mode": {
    "name": "ipython",
    "version": 3
   },
   "file_extension": ".py",
   "mimetype": "text/x-python",
   "name": "python",
   "nbconvert_exporter": "python",
   "pygments_lexer": "ipython3",
   "version": "3.10.0"
  }
 },
 "nbformat": 4,
 "nbformat_minor": 5
}
