{
 "cells": [
  {
   "cell_type": "markdown",
   "id": "270455f8",
   "metadata": {},
   "source": [
    "RAW DATA PULLING FROM KAFKA AS BATCH AND STORING IN DELTA FORMAT"
   ]
  },
  {
   "cell_type": "code",
   "execution_count": 1,
   "id": "3fac7bf3",
   "metadata": {},
   "outputs": [],
   "source": [
    "from pyspark.sql import SparkSession\n",
    "from pyspark.sql.types import *\n",
    "from pyspark.sql.functions import *\n",
    "from delta import *\n",
    "from datetime import datetime"
   ]
  },
  {
   "cell_type": "code",
   "execution_count": null,
   "id": "e9a76836",
   "metadata": {},
   "outputs": [
    {
     "name": "stdout",
     "output_type": "stream",
     "text": [
      "<pyspark.sql.session.SparkSession object at 0x00000157669B8830>\n"
     ]
    }
   ],
   "source": [
    "# Session and Configuration\n",
    "\n",
    "# spark = SparkSession.builder \\\n",
    "#     .appName(\"raw_train_live_status\") \\\n",
    "#     .config(\"spark.jars\", \"C:/Program Files/Spark/spark-jars/spark-sql-kafka-0-10_2.13-4.0.0.jar,\"\n",
    "#                       \"C:/Program Files/Spark/spark-jars/kafka-clients-3.4.0.jar,\"\n",
    "#                       \"C:/Program Files/Spark/spark-jars/commons-pool2-2.11.1.jar,\"\n",
    "#                       \"C:/Program Files/Spark/spark-jars/delta-spark_2.13-4.0.0.jar\") \\\n",
    "#     .config(\"spark.sql.extensions\",\"io.delta.sql.DeltaSparkSessionExtension\") \\\n",
    "#     .config(\"spark.sql.catalog.spark_catalog\",\"org.apache.spark.sql.delta.catalog.DeltaCatalog\") \\\n",
    "#     .master(\"local[*]\") \\\n",
    "#     .getOrCreate()\n",
    "\n",
    "# print(spark)"
   ]
  },
  {
   "cell_type": "code",
   "execution_count": 2,
   "id": "37b06ce9",
   "metadata": {},
   "outputs": [],
   "source": [
    "#Spark session with Delta Lake and Kafka support\n",
    "\n",
    "spark = SparkSession.builder \\\n",
    "    .appName(\"raw_train_live_status\") \\\n",
    "    .config(\"spark.jars.packages\",\n",
    "            \"org.apache.spark:spark-sql-kafka-0-10_2.13:4.0.0,\"\n",
    "            \"org.apache.kafka:kafka-clients:3.4.0,\"\n",
    "            \"io.delta:delta-spark_2.13:4.0.0\") \\\n",
    "    .config(\"spark.sql.extensions\",\"io.delta.sql.DeltaSparkSessionExtension\") \\\n",
    "    .config(\"spark.sql.catalog.spark_catalog\",\"org.apache.spark.sql.delta.catalog.DeltaCatalog\") \\\n",
    "    .config(\"spark.databricks.delta.properties.defaults.enableDeletionVectors\", \"true\") \\\n",
    "    .master(\"local[*]\") \\\n",
    "    .getOrCreate()"
   ]
  },
  {
   "cell_type": "code",
   "execution_count": 3,
   "id": "97a922c6",
   "metadata": {},
   "outputs": [],
   "source": [
    "\n",
    "#initial schema\n",
    "kafka_schem = StructType([\n",
    "    StructField(\"schema_type\", StringType(), True),\n",
    "    StructField(\"data\", StringType(), True),\n",
    "])\n",
    "\n",
    "#TrainMaster schema\n",
    "train_master_schema =ArrayType(StructType([\n",
    "    StructField(\"trainId\", IntegerType(), True),\n",
    "    StructField(\"trainNo\", IntegerType(), True),\n",
    "    StructField(\"category\", StringType(), True),\n",
    "    StructField(\"operator\", StringType(), True)\n",
    "]))\n",
    "\n",
    "#StationInfo schema\n",
    "station_info_schema = ArrayType(StructType([\n",
    "    StructField(\"stationId\", IntegerType(), True),\n",
    "    StructField(\"stationName\", StringType(), True),\n",
    "    StructField(\"stationCode\", StringType(), True),\n",
    "    StructField(\"latitude\", StringType(), True),   # or DoubleType() if values are numeric\n",
    "    StructField(\"longitude\", StringType(), True)   # or DoubleType() if values are numeric\n",
    "\n",
    "]))\n",
    "\n",
    "# TrainLiveStatus schema\n",
    "train_schedule_time_schema = ArrayType(StructType([\n",
    "    StructField(\"scheduleId\", StringType(), True),\n",
    "    StructField(\"trainId\", StringType(), True),\n",
    "    StructField(\"trainNumber\", IntegerType(), True),\n",
    "    StructField(\"trainName\", StringType(), True),\n",
    "    StructField(\"scheduledArrivalTime\", StringType(), True),\n",
    "    StructField(\"scheduledDepartureTime\", StringType(), True),\n",
    "    StructField(\"stationCodes\", StringType(), True),\n",
    "    StructField(\"createdDate\", StringType(), True)\n",
    "]))"
   ]
  },
  {
   "cell_type": "code",
   "execution_count": 1,
   "id": "30af9227",
   "metadata": {},
   "outputs": [
    {
     "ename": "NameError",
     "evalue": "name 'spark' is not defined",
     "output_type": "error",
     "traceback": [
      "\u001b[31m---------------------------------------------------------------------------\u001b[39m",
      "\u001b[31mNameError\u001b[39m                                 Traceback (most recent call last)",
      "\u001b[36mCell\u001b[39m\u001b[36m \u001b[39m\u001b[32mIn[1]\u001b[39m\u001b[32m, line 3\u001b[39m\n\u001b[32m      1\u001b[39m \u001b[38;5;66;03m# Read data from Kafka topic\u001b[39;00m\n\u001b[32m----> \u001b[39m\u001b[32m3\u001b[39m kafka_df = \u001b[43mspark\u001b[49m.read \\\n\u001b[32m      4\u001b[39m     .format(\u001b[33m\"\u001b[39m\u001b[33mkafka\u001b[39m\u001b[33m\"\u001b[39m) \\\n\u001b[32m      5\u001b[39m     .option(\u001b[33m\"\u001b[39m\u001b[33mkafka.bootstrap.servers\u001b[39m\u001b[33m\"\u001b[39m, \u001b[33m\"\u001b[39m\u001b[33mlocalhost:9092\u001b[39m\u001b[33m\"\u001b[39m) \\\n\u001b[32m      6\u001b[39m     .option(\u001b[33m\"\u001b[39m\u001b[33msubscribe\u001b[39m\u001b[33m\"\u001b[39m, \u001b[33m\"\u001b[39m\u001b[33mtrain_station_info_batch_data\u001b[39m\u001b[33m\"\u001b[39m) \\\n\u001b[32m      7\u001b[39m     .option(\u001b[33m\"\u001b[39m\u001b[33mstartingOffsets\u001b[39m\u001b[33m\"\u001b[39m, \u001b[33m\"\u001b[39m\u001b[33mearliest\u001b[39m\u001b[33m\"\u001b[39m) \\\n\u001b[32m      8\u001b[39m     .load()\n",
      "\u001b[31mNameError\u001b[39m: name 'spark' is not defined"
     ]
    }
   ],
   "source": [
    "# Read data from Kafka topic\n",
    "\n",
    "kafka_df = spark.read \\\n",
    "    .format(\"kafka\") \\\n",
    "    .option(\"kafka.bootstrap.servers\", \"localhost:9092\") \\\n",
    "    .option(\"subscribe\", \"train_station_info_batch_data\") \\\n",
    "    .option(\"startingOffsets\", \"earliest\") \\\n",
    "    .load()\n"
   ]
  },
  {
   "cell_type": "code",
   "execution_count": 16,
   "id": "4cacc3b5",
   "metadata": {},
   "outputs": [
    {
     "name": "stdout",
     "output_type": "stream",
     "text": [
      "root\n",
      " |-- data: struct (nullable = true)\n",
      " |    |-- schema_type: string (nullable = true)\n",
      " |    |-- data: string (nullable = true)\n",
      "\n",
      "+--------------------+\n",
      "|                data|\n",
      "+--------------------+\n",
      "|{stationInfo, [{\"...|\n",
      "|{stationInfo, [{\"...|\n",
      "|{trainMaster, [{\"...|\n",
      "|{trainScheduleTim...|\n",
      "|{trainScheduleTim...|\n",
      "|{trainMaster, [{\"...|\n",
      "|{trainScheduleTim...|\n",
      "|{stationInfo, [{\"...|\n",
      "|{trainMaster, [{\"...|\n",
      "|{trainMaster, [{\"...|\n",
      "|{trainScheduleTim...|\n",
      "|{stationInfo, [{\"...|\n",
      "|{stationInfo, [{\"...|\n",
      "|{stationInfo, [{\"...|\n",
      "|{trainScheduleTim...|\n",
      "|{stationInfo, [{\"...|\n",
      "|{trainMaster, [{\"...|\n",
      "|{trainMaster, [{\"...|\n",
      "|{trainScheduleTim...|\n",
      "|{trainMaster, [{\"...|\n",
      "+--------------------+\n",
      "only showing top 20 rows\n"
     ]
    }
   ],
   "source": [
    "decoded_df = kafka_df.selectExpr(\"CAST(value AS STRING) as json_string\")\n",
    "decoded_df = decoded_df.withColumn(\"data\", from_json(col(\"json_string\"), kafka_schem)).drop(\"json_string\")\n",
    "decoded_df.printSchema()"
   ]
  },
  {
   "cell_type": "code",
   "execution_count": null,
   "id": "88debb27",
   "metadata": {},
   "outputs": [
    {
     "name": "stdout",
     "output_type": "stream",
     "text": [
      "root\n",
      " |-- schema_type: string (nullable = true)\n",
      " |-- record: string (nullable = true)\n",
      "\n",
      "+-----------------+--------------------+\n",
      "|      schema_type|              record|\n",
      "+-----------------+--------------------+\n",
      "|      stationInfo|[{\"stationId\":1,\"...|\n",
      "|      stationInfo|[{\"stationId\":1,\"...|\n",
      "|      trainMaster|[{\"trainId\":23497...|\n",
      "|trainScheduleTime|[{\"scheduleId\":\"9...|\n",
      "|trainScheduleTime|[{\"scheduleId\":\"9...|\n",
      "|      trainMaster|[{\"trainId\":23497...|\n",
      "|trainScheduleTime|[{\"scheduleId\":\"9...|\n",
      "|      stationInfo|[{\"stationId\":1,\"...|\n",
      "|      trainMaster|[{\"trainId\":23497...|\n",
      "|      trainMaster|[{\"trainId\":70794...|\n",
      "|trainScheduleTime|[{\"scheduleId\":\"9...|\n",
      "|      stationInfo|[{\"stationId\":1,\"...|\n",
      "|      stationInfo|[{\"stationId\":1,\"...|\n",
      "|      stationInfo|[{\"stationId\":1,\"...|\n",
      "|trainScheduleTime|[{\"scheduleId\":\"4...|\n",
      "|      stationInfo|[{\"stationId\":1,\"...|\n",
      "|      trainMaster|[{\"trainId\":23497...|\n",
      "|      trainMaster|[{\"trainId\":23497...|\n",
      "|trainScheduleTime|[{\"scheduleId\":\"9...|\n",
      "|      trainMaster|[{\"trainId\":23497...|\n",
      "+-----------------+--------------------+\n",
      "only showing top 20 rows\n"
     ]
    }
   ],
   "source": [
    "flattened_df = decoded_df \\\n",
    "    .withColumn(\"schema_type\", col(\"data.schema_type\")) \\\n",
    "    .withColumn(\"record\", col(\"data.data\")) \\\n",
    "    .drop(\"data\") \n",
    "\n",
    "flattened_df.printSchema()"
   ]
  },
  {
   "cell_type": "code",
   "execution_count": 19,
   "id": "7545384f",
   "metadata": {},
   "outputs": [],
   "source": [
    "# Row wise data extraction for each schema type\n",
    "\n",
    "stationinfo_df = flattened_df.filter(col(\"schema_type\") == \"stationInfo\")\\\n",
    "    .withColumn(\"record\",from_json(col(\"record\"), station_info_schema).alias(\"stationInfo\"))\\\n",
    "    .withColumn(\"record\",explode_outer(col(\"record\")))\\\n",
    "    .select(\"record.*\")\n",
    "\n",
    "\n",
    "trainmaster_df = flattened_df.filter(col(\"schema_type\") == \"trainMaster\")\\\n",
    "    .withColumn(\"record\",from_json(col(\"record\"),train_master_schema).alias(\"trainMaster\"))\\\n",
    "    .withColumn(\"record\",explode_outer(col(\"record\")))\\\n",
    "    .select(\"record.*\")\n",
    "\n",
    "trainscheduledtime_df = flattened_df.filter(col(\"schema_type\") == \"trainScheduleTime\")\\\n",
    "    .withColumn(\"record\",from_json(col(\"record\"),train_schedule_time_schema).alias(\"trainScheduleTime\"))\\\n",
    "    .withColumn(\"record\",explode_outer(col(\"record\")))\\\n",
    "    .select(\"record.*\")\\\n",
    "    .withColumn(\"stationCodes\", from_json(col(\"stationCodes\"), ArrayType(StringType())))  \n"
   ]
  },
  {
   "cell_type": "code",
   "execution_count": null,
   "id": "acb5d70a",
   "metadata": {},
   "outputs": [],
   "source": [
    "#save the dataframes to Delta format with current date as folder name\n",
    "\n",
    "current_date = datetime.now().date()\n",
    "\n",
    " \n",
    "file_names = [\"stationinfo\", \"trainmaster\", \"trainscheduledtime\"]\n",
    "\n",
    "for index,df in enumerate([stationinfo_df, trainmaster_df, trainscheduledtime_df]):\n",
    "    df.write.format(\"delta\") \\\n",
    "        .mode(\"overwrite\") \\\n",
    "        .save(f\"raw_data/raw_batch_data/{current_date}/{file_names[index]}\")\n",
    "        "
   ]
  }
 ],
 "metadata": {
  "kernelspec": {
   "display_name": ".venv",
   "language": "python",
   "name": "python3"
  },
  "language_info": {
   "codemirror_mode": {
    "name": "ipython",
    "version": 3
   },
   "file_extension": ".py",
   "mimetype": "text/x-python",
   "name": "python",
   "nbconvert_exporter": "python",
   "pygments_lexer": "ipython3",
   "version": "3.13.2"
  }
 },
 "nbformat": 4,
 "nbformat_minor": 5
}
