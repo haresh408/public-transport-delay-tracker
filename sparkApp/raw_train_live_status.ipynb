{
 "cells": [
  {
   "cell_type": "code",
   "execution_count": 4,
   "id": "3fac7bf3",
   "metadata": {},
   "outputs": [],
   "source": [
    "from pyspark.sql import SparkSession\n",
    "from pyspark.sql.types import *\n",
    "from pyspark.sql.functions import *\n",
    "from delta import *"
   ]
  },
  {
   "cell_type": "code",
   "execution_count": null,
   "id": "e9a76836",
   "metadata": {},
   "outputs": [
    {
     "name": "stdout",
     "output_type": "stream",
     "text": [
      "<pyspark.sql.session.SparkSession object at 0x00000157669B8830>\n"
     ]
    }
   ],
   "source": [
    "# Session and Configuration\n",
    "\n",
    "# spark = SparkSession.builder \\\n",
    "#     .appName(\"raw_train_live_status\") \\\n",
    "#     .config(\"spark.jars\", \"C:/Program Files/Spark/spark-jars/spark-sql-kafka-0-10_2.13-4.0.0.jar,\"\n",
    "#                       \"C:/Program Files/Spark/spark-jars/kafka-clients-3.4.0.jar,\"\n",
    "#                       \"C:/Program Files/Spark/spark-jars/commons-pool2-2.11.1.jar,\"\n",
    "#                       \"C:/Program Files/Spark/spark-jars/delta-spark_2.13-4.0.0.jar\") \\\n",
    "#     .config(\"spark.sql.extensions\",\"io.delta.sql.DeltaSparkSessionExtension\") \\\n",
    "#     .config(\"spark.sql.catalog.spark_catalog\",\"org.apache.spark.sql.delta.catalog.DeltaCatalog\") \\\n",
    "#     .master(\"local[*]\") \\\n",
    "#     .getOrCreate()\n",
    "\n",
    "# print(spark)"
   ]
  },
  {
   "cell_type": "code",
   "execution_count": 5,
   "id": "37b06ce9",
   "metadata": {},
   "outputs": [],
   "source": [
    "spark = SparkSession.builder \\\n",
    "    .appName(\"raw_train_live_status\") \\\n",
    "    .config(\"spark.jars.packages\",\n",
    "            \"org.apache.spark:spark-sql-kafka-0-10_2.13:4.0.0,\"\n",
    "            \"org.apache.kafka:kafka-clients:3.4.0,\"\n",
    "            \"io.delta:delta-spark_2.13:4.0.0\") \\\n",
    "    .config(\"spark.sql.extensions\",\"io.delta.sql.DeltaSparkSessionExtension\") \\\n",
    "    .config(\"spark.sql.catalog.spark_catalog\",\"org.apache.spark.sql.delta.catalog.DeltaCatalog\") \\\n",
    "    .master(\"local[*]\") \\\n",
    "    .getOrCreate()"
   ]
  },
  {
   "cell_type": "code",
   "execution_count": 39,
   "id": "97a922c6",
   "metadata": {},
   "outputs": [],
   "source": [
    "\n",
    "\n",
    "kafka_schem = StructType([\n",
    "    StructField(\"schema_type\", StringType(), True),\n",
    "    StructField(\"data\", StringType(), True),\n",
    "])\n",
    "\n",
    "#TrainMaster schema\n",
    "train_master_schema =ArrayType(StructType([\n",
    "    StructField(\"trainId\", IntegerType(), True),\n",
    "    StructField(\"trainNo\", IntegerType(), True),\n",
    "    StructField(\"category\", StringType(), True),\n",
    "    StructField(\"operator\", StringType(), True)\n",
    "]))\n",
    "\n",
    "#StationInfo schema\n",
    "station_info_schema = ArrayType(StructType([\n",
    "    StructField(\"stationId\", IntegerType(), True),\n",
    "    StructField(\"stationName\", StringType(), True),\n",
    "    StructField(\"stationCode\", StringType(), True),\n",
    "    StructField(\"latitude\", StringType(), True),   # or DoubleType() if values are numeric\n",
    "    StructField(\"longitude\", StringType(), True)   # or DoubleType() if values are numeric\n",
    "\n",
    "]))\n",
    "\n",
    "# TrainLiveStatus schema\n",
    "train_schedule_time_schema = ArrayType(StructType([\n",
    "    StructField(\"scheduleId\", LongType(), True),\n",
    "    StructField(\"trainId\", StringType(), True),\n",
    "    StructField(\"trainNumber\", IntegerType(), True),\n",
    "    StructField(\"trainName\", StringType(), True),\n",
    "    StructField(\"scheduledArrivalTime\", StringType(), True),\n",
    "    StructField(\"scheduledDepartureTime\", StringType(), True),\n",
    "    StructField(\"stationCodes\", ArrayType(StringType()), True),\n",
    "    StructField(\"createdDate\", StringType(), True)\n",
    "]))"
   ]
  },
  {
   "cell_type": "code",
   "execution_count": 11,
   "id": "30af9227",
   "metadata": {},
   "outputs": [],
   "source": [
    "kafka_df = spark.read \\\n",
    "    .format(\"kafka\") \\\n",
    "    .option(\"kafka.bootstrap.servers\", \"localhost:9092\") \\\n",
    "    .option(\"subscribe\", \"train_station_info_batch_data\") \\\n",
    "    .option(\"startingOffsets\", \"earliest\") \\\n",
    "    .load()\n"
   ]
  },
  {
   "cell_type": "code",
   "execution_count": null,
   "id": "4cacc3b5",
   "metadata": {},
   "outputs": [
    {
     "name": "stdout",
     "output_type": "stream",
     "text": [
      "root\n",
      " |-- data: struct (nullable = true)\n",
      " |    |-- schema_type: string (nullable = true)\n",
      " |    |-- data: string (nullable = true)\n",
      "\n",
      "+--------------------+\n",
      "|                data|\n",
      "+--------------------+\n",
      "|{stationInfo, [{\"...|\n",
      "|{trainMaster, [{\"...|\n",
      "|{trainScheduleTim...|\n",
      "+--------------------+\n",
      "\n"
     ]
    }
   ],
   "source": [
    "decoded_df = kafka_df.selectExpr(\"CAST(value AS STRING) as json_string\")\n",
    "decoded_df = decoded_df.withColumn(\"data\", from_json(col(\"json_string\"), kafka_schem)).drop(\"json_string\")\n",
    "decoded_df.printSchema()"
   ]
  },
  {
   "cell_type": "code",
   "execution_count": null,
   "id": "88debb27",
   "metadata": {},
   "outputs": [
    {
     "name": "stdout",
     "output_type": "stream",
     "text": [
      "+-----------------+--------------------+\n",
      "|      schema_type|              record|\n",
      "+-----------------+--------------------+\n",
      "|      stationInfo|[{\"stationId\":1,\"...|\n",
      "|      trainMaster|[{\"trainId\":70794...|\n",
      "|trainScheduleTime|[{\"scheduleId\":\"4...|\n",
      "+-----------------+--------------------+\n",
      "\n"
     ]
    }
   ],
   "source": [
    "flattened_df = decoded_df \\\n",
    "    .withColumn(\"schema_type\", col(\"data.schema_type\")) \\\n",
    "    .withColumn(\"record\", col(\"data.data\")) \\\n",
    "    .drop(\"data\") \n",
    "\n",
    "flattened_df.printSchema()"
   ]
  },
  {
   "cell_type": "code",
   "execution_count": 40,
   "id": "7545384f",
   "metadata": {},
   "outputs": [
    {
     "name": "stdout",
     "output_type": "stream",
     "text": [
      "+---------+--------------+-----------+--------------+---------------+\n",
      "|stationId|   stationName|stationCode|      latitude|      longitude|\n",
      "+---------+--------------+-----------+--------------+---------------+\n",
      "|        1|    Churchgate|        CCG|-20.1492537313|  17.0149253731|\n",
      "|        2|  Marine Lines|        MEL| 47.0149253731| -27.7611940299|\n",
      "|        3|   Charni Road|        CYR| -74.776119403|  70.7462686567|\n",
      "|        4|    Grant Road|        GTR|-10.2985074627|-124.4776119403|\n",
      "|        5|Mumbai Central|       MMCT| 38.9552238806|  -2.6865671642|\n",
      "|        6|   Mahalakshmi|         MX|-37.1641791045| 160.2985074627|\n",
      "|        7|   Lower Parel|         PL|          30.0| 172.8358208955|\n",
      "|        8|    Prabhadevi|       PBHD|-51.4925373134| 117.3134328358|\n",
      "|        9|         Dadar|   D/DR/DDR| 55.9701492537|-142.3880597015|\n",
      "|       10|  Matunga Road|        MRU|-85.5223880597|   4.4776119403|\n",
      "|       11|      Mahim Jn|         MM|  2.2388059701|-144.1791044776|\n",
      "|       12|        Bandra|       B/BA| -9.4029850746| -58.2089552239|\n",
      "|       13|     Khar Road|       KHAR| 72.0895522388|  24.1791044776|\n",
      "|       14|     Santacruz|        STC|-21.9402985075| -149.552238806|\n",
      "|       15|    Vile Parle|        VLP| 81.0447761194| -81.4925373134|\n",
      "|       16|       Andheri|   A/AD/ADH| -14.776119403|  77.9104477612|\n",
      "|       17|    Jogeshwari|        JOS| 80.1492537313| -97.6119402985|\n",
      "|       18|    Ram Mandir|       RMAR|-56.8656716418|  68.9552238806|\n",
      "|       19|      Goregaon|        GMN| 26.4179104478|  20.5970149254|\n",
      "|       20|         Malad|        MDD| 16.5671641791| 111.9402985075|\n",
      "+---------+--------------+-----------+--------------+---------------+\n",
      "only showing top 20 rows\n"
     ]
    }
   ],
   "source": [
    "station_df = flattened_df.filter(col(\"schema_type\") == \"stationInfo\")\\\n",
    "    .withColumn(\"record\",from_json(col(\"record\"), station_info_schema).alias(\"stationInfo\"))\\\n",
    "    .withColumn(\"record\",explode_outer(col(\"record\")))\\\n",
    "    .select(\"record.*\")\n",
    "\n",
    "\n",
    "  \n",
    "station_df.show()\n"
   ]
  },
  {
   "cell_type": "code",
   "execution_count": 8,
   "id": "65259f03",
   "metadata": {},
   "outputs": [
    {
     "data": {
      "text/plain": [
       "<pyspark.sql.streaming.query.StreamingQuery at 0x19766b61940>"
      ]
     },
     "execution_count": 8,
     "metadata": {},
     "output_type": "execute_result"
    }
   ],
   "source": [
    "decoded_df.writeStream \\\n",
    "    .format(\"json\") \\\n",
    "    .option(\"path\", \"output_data/\") \\\n",
    "    .option(\"checkpointLocation\", \"chk_dir/\") \\\n",
    "    .start()"
   ]
  },
  {
   "cell_type": "code",
   "execution_count": null,
   "id": "cedd111a",
   "metadata": {},
   "outputs": [],
   "source": [
    "query = decoded_df.writeStream \\\n",
    "    .format(\"console\") \\\n",
    "    .trigger(processingTime='5 seconds') \\\n",
    "    .outputMode(\"append\") \\\n",
    "    .start()\n",
    "\n",
    "query.awaitTermination()"
   ]
  }
 ],
 "metadata": {
  "kernelspec": {
   "display_name": ".venv",
   "language": "python",
   "name": "python3"
  },
  "language_info": {
   "codemirror_mode": {
    "name": "ipython",
    "version": 3
   },
   "file_extension": ".py",
   "mimetype": "text/x-python",
   "name": "python",
   "nbconvert_exporter": "python",
   "pygments_lexer": "ipython3",
   "version": "3.13.2"
  }
 },
 "nbformat": 4,
 "nbformat_minor": 5
}
