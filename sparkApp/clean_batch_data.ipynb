{
 "cells": [
  {
   "cell_type": "markdown",
   "id": "691fb7b8",
   "metadata": {},
   "source": [
    "CLEANING RAW DATA AND CONVERTING IT TO APPROPRIATE DATA TYPES"
   ]
  },
  {
   "cell_type": "code",
   "execution_count": 4,
   "id": "28e8ce75",
   "metadata": {},
   "outputs": [],
   "source": [
    "from pyspark.sql import SparkSession\n",
    "from pyspark.sql.types import *\n",
    "from pyspark.sql.functions import *\n",
    "import os\n"
   ]
  },
  {
   "cell_type": "code",
   "execution_count": 2,
   "id": "714bf55a",
   "metadata": {},
   "outputs": [],
   "source": [
    "spark = SparkSession.builder \\\n",
    "    .appName(\"raw_train_live_status\") \\\n",
    "    .config(\"spark.jars.packages\",\"io.delta:delta-spark_2.13:4.0.0\") \\\n",
    "    .config(\"spark.sql.extensions\",\"io.delta.sql.DeltaSparkSessionExtension\") \\\n",
    "    .config(\"spark.sql.catalog.spark_catalog\",\"org.apache.spark.sql.delta.catalog.DeltaCatalog\") \\\n",
    "    .config(\"spark.databricks.delta.properties.defaults.enableDeletionVectors\", \"true\") \\\n",
    "    .master(\"local[*]\") \\\n",
    "    .getOrCreate()"
   ]
  },
  {
   "cell_type": "code",
   "execution_count": 37,
   "id": "8708dcf2",
   "metadata": {},
   "outputs": [
    {
     "name": "stdout",
     "output_type": "stream",
     "text": [
      "root\n",
      " |-- scheduleId: string (nullable = true)\n",
      " |-- trainId: string (nullable = true)\n",
      " |-- trainNumber: integer (nullable = true)\n",
      " |-- trainName: string (nullable = true)\n",
      " |-- scheduledArrivalTime: string (nullable = true)\n",
      " |-- scheduledDepartureTime: string (nullable = true)\n",
      " |-- stationCodes: array (nullable = true)\n",
      " |    |-- element: string (containsNull = true)\n",
      " |-- createdDate: string (nullable = true)\n",
      "\n"
     ]
    },
    {
     "data": {
      "text/plain": [
       "4024"
      ]
     },
     "execution_count": 37,
     "metadata": {},
     "output_type": "execute_result"
    }
   ],
   "source": [
    "df = spark.read.format(\"delta\")\\\n",
    "    .load(os.path.join(os.path.abspath(\"\"),\"raw_data\\\\raw_batch_data\\\\2025-07-14\\\\trainscheduledtime\"))\n",
    "\n",
    "df.printSchema()\n",
    "df.count()"
   ]
  }
 ],
 "metadata": {
  "kernelspec": {
   "display_name": ".venv",
   "language": "python",
   "name": "python3"
  },
  "language_info": {
   "codemirror_mode": {
    "name": "ipython",
    "version": 3
   },
   "file_extension": ".py",
   "mimetype": "text/x-python",
   "name": "python",
   "nbconvert_exporter": "python",
   "pygments_lexer": "ipython3",
   "version": "3.13.2"
  }
 },
 "nbformat": 4,
 "nbformat_minor": 5
}
