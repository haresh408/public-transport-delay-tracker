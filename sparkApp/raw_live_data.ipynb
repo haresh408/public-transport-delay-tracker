{
 "cells": [
  {
   "cell_type": "markdown",
   "id": "cbf8cac0",
   "metadata": {},
   "source": [
    "RAW DATA PULLING FROM KAFKA AS LIVE AND STORING IN DELTA FORMAT"
   ]
  },
  {
   "cell_type": "code",
   "execution_count": 1,
   "id": "6528eb2d",
   "metadata": {},
   "outputs": [],
   "source": [
    "from pyspark.sql import SparkSession\n",
    "from pyspark.sql.types import *\n",
    "from pyspark.sql.functions import *\n",
    "from datetime import datetime"
   ]
  },
  {
   "cell_type": "code",
   "execution_count": 2,
   "id": "605cdeef",
   "metadata": {},
   "outputs": [],
   "source": [
    "#Spark session with Delta Lake and Kafka support\n",
    "\n",
    "spark = SparkSession.builder \\\n",
    "    .appName(\"raw_train_live_status\") \\\n",
    "    .config(\"spark.jars.packages\",\n",
    "            \"org.apache.spark:spark-sql-kafka-0-10_2.13:4.0.0,\"\n",
    "            \"org.apache.kafka:kafka-clients:3.4.0,\"\n",
    "            \"io.delta:delta-spark_2.13:4.0.0\") \\\n",
    "    .config(\"spark.sql.extensions\",\"io.delta.sql.DeltaSparkSessionExtension\") \\\n",
    "    .config(\"spark.sql.catalog.spark_catalog\",\"org.apache.spark.sql.delta.catalog.DeltaCatalog\") \\\n",
    "    .config(\"spark.databricks.delta.properties.defaults.enableDeletionVectors\", \"true\") \\\n",
    "    .master(\"local[*]\") \\\n",
    "    .getOrCreate()"
   ]
  },
  {
   "cell_type": "code",
   "execution_count": 3,
   "id": "c60d6547",
   "metadata": {},
   "outputs": [],
   "source": [
    "#live_data_schema\n",
    "\n",
    "live_data_schema = StructType([\n",
    "    StructField(\"eventId\",StringType(),True),\n",
    "    StructField(\"trainId\",StringType(),True),\n",
    "    StructField(\"eventType\",StringType(),True),\n",
    "    StructField(\"stationCode\",StringType(),True),\n",
    "    StructField(\"distanceCovered\",StringType(),True),\n",
    "    StructField(\"totalDistance\",StringType(),True),\n",
    "    StructField(\"noOfDays\",StringType(),True),\n",
    "    StructField(\"actualArrivalTime\",StringType(),True),\n",
    "    StructField(\"expectedArrivalTime\",StringType(),True),\n",
    "    StructField(\"actualDepartureTime\",StringType(),True),\n",
    "    StructField(\"expectedDepartureTime\",StringType(),True),\n",
    "    StructField(\"createdDate\",StringType(),True)\n",
    "])"
   ]
  },
  {
   "cell_type": "code",
   "execution_count": 5,
   "id": "c2dc84e5",
   "metadata": {},
   "outputs": [],
   "source": [
    "# Read data from Kafka topic\n",
    "\n",
    "kafka_df = spark.read \\\n",
    "    .format(\"kafka\") \\\n",
    "    .option(\"kafka.bootstrap.servers\", \"localhost:9092\") \\\n",
    "    .option(\"subscribe\", \"train_live_status_stream_data\") \\\n",
    "    .option(\"startingOffsets\", \"earliest\") \\\n",
    "    .load()\n"
   ]
  },
  {
   "cell_type": "code",
   "execution_count": 6,
   "id": "95bfe19d",
   "metadata": {},
   "outputs": [
    {
     "name": "stdout",
     "output_type": "stream",
     "text": [
      "+----+----------------------------------------------------------------------------------------------------------------------------------------------------------------------------------------------------------------------------------------------------------------------------------------------------------------------------------------------------------------------+-----------------------------+---------+------+-----------------------+-------------+\n",
      "|key |value                                                                                                                                                                                                                                                                                                                                                                 |topic                        |partition|offset|timestamp              |timestampType|\n",
      "+----+----------------------------------------------------------------------------------------------------------------------------------------------------------------------------------------------------------------------------------------------------------------------------------------------------------------------------------------------------------------------+-----------------------------+---------+------+-----------------------+-------------+\n",
      "|NULL|[31 37 62 35 62 30 65 38 2D 33 38 62 30 2D 34 36 36 35 2D 61 66 62 30 2D 31 63 30 34 62 65 34 39 39 34 38 33 2C 35 35 35 38 33 38 34 2C 44 65 70 61 72 74 75 72 65 2C 50 52 2C 30 2C 31 32 34 33 2C 34 2C 6E 61 6E 2C 6E 61 6E 2C 30 35 3A 32 37 2C 30 36 3A 30 34 2C 32 30 32 35 2D 30 37 2D 31 30 20 30 39 3A 35 38 3A 35 32 2E 37 36 37 37 30 30]                  |train_live_status_stream_data|0        |0     |2025-07-10 20:26:23.708|0            |\n",
      "|NULL|[38 36 34 38 65 63 38 31 2D 33 32 33 64 2D 34 63 64 64 2D 39 64 34 64 2D 64 65 30 37 39 66 63 33 37 38 65 39 2C 35 34 39 39 32 39 39 2C 44 65 70 61 72 74 75 72 65 2C 4D 53 44 2C 30 2C 35 36 38 2C 33 2C 6E 61 6E 2C 6E 61 6E 2C 31 34 3A 31 35 2C 31 34 3A 34 35 2C 32 30 32 35 2D 30 37 2D 31 30 20 30 39 3A 35 38 3A 35 32 2E 37 36 38 30 30 32]                  |train_live_status_stream_data|0        |1     |2025-07-10 20:26:25.72 |0            |\n",
      "|NULL|[34 33 61 36 34 38 63 30 2D 30 30 35 31 2D 34 30 63 34 2D 38 62 33 65 2D 39 64 62 61 39 39 37 65 63 62 61 36 2C 32 32 30 39 38 36 39 2C 44 65 70 61 72 74 75 72 65 2C 47 2C 30 2C 31 31 38 34 2C 33 2C 6E 61 6E 2C 6E 61 6E 2C 30 33 3A 33 33 2C 30 33 3A 33 33 2C 32 30 32 35 2D 30 37 2D 31 30 20 30 39 3A 35 38 3A 35 32 2E 37 36 38 36 31 33]                     |train_live_status_stream_data|0        |2     |2025-07-10 20:26:29.73 |0            |\n",
      "|NULL|[64 38 66 32 66 62 32 65 2D 36 37 35 65 2D 34 61 35 63 2D 39 64 38 39 2D 35 64 34 30 30 33 33 66 35 36 64 35 2C 34 34 33 37 33 38 38 2C 44 65 70 61 72 74 75 72 65 2C 47 56 2C 30 2C 31 36 32 32 2C 33 2C 6E 61 6E 2C 6E 61 6E 2C 32 31 3A 33 32 2C 32 31 3A 33 32 2C 32 30 32 35 2D 30 37 2D 31 30 20 30 39 3A 35 38 3A 35 32 2E 37 36 39 35 35 30]                  |train_live_status_stream_data|0        |3     |2025-07-10 20:26:35.759|0            |\n",
      "|NULL|[61 61 39 61 32 37 30 64 2D 61 31 34 34 2D 34 31 38 62 2D 38 37 38 64 2D 63 66 66 65 32 35 31 63 34 39 63 34 2C 38 36 31 37 34 30 35 2C 44 65 70 61 72 74 75 72 65 2C 4B 4A 4D 47 2C 30 2C 31 32 39 38 2C 34 2C 6E 61 6E 2C 6E 61 6E 2C 30 36 3A 32 38 2C 30 36 3A 32 38 2C 32 30 32 35 2D 30 37 2D 31 30 20 30 39 3A 35 38 3A 35 32 2E 37 36 39 38 33 39]            |train_live_status_stream_data|0        |4     |2025-07-10 20:26:37.762|0            |\n",
      "|NULL|[35 62 35 61 65 62 36 37 2D 37 39 66 62 2D 34 65 63 30 2D 62 33 61 32 2D 30 30 34 39 61 31 39 65 39 62 31 61 2C 37 36 32 36 35 35 34 2C 44 65 70 61 72 74 75 72 65 2C 44 2F 44 52 2F 44 44 52 2C 30 2C 31 34 38 35 2C 34 2C 6E 61 6E 2C 6E 61 6E 2C 31 30 3A 34 36 2C 31 31 3A 32 35 2C 32 30 32 35 2D 30 37 2D 31 30 20 30 39 3A 35 38 3A 35 32 2E 37 37 30 38 33 35]|train_live_status_stream_data|0        |5     |2025-07-10 20:26:43.786|0            |\n",
      "|NULL|[63 66 38 30 39 38 61 62 2D 62 61 64 65 2D 34 34 35 62 2D 39 32 64 38 2D 32 37 61 37 62 63 31 35 32 35 30 65 2C 38 39 30 38 34 34 32 2C 44 65 70 61 72 74 75 72 65 2C 56 52 2C 30 2C 32 36 35 2C 33 2C 6E 61 6E 2C 6E 61 6E 2C 31 36 3A 35 36 2C 31 36 3A 35 36 2C 32 30 32 35 2D 30 37 2D 31 30 20 30 39 3A 35 38 3A 35 32 2E 37 37 31 34 39 31]                     |train_live_status_stream_data|0        |6     |2025-07-10 20:26:47.797|0            |\n",
      "|NULL|[66 37 31 39 62 39 36 39 2D 66 39 35 33 2D 34 38 63 35 2D 38 32 36 36 2D 64 62 39 66 66 37 39 62 37 33 63 31 2C 31 37 35 37 31 36 34 2C 44 65 70 61 72 74 75 72 65 2C 54 4E 41 2C 30 2C 31 36 31 31 2C 32 2C 6E 61 6E 2C 6E 61 6E 2C 30 30 3A 32 34 2C 30 30 3A 32 34 2C 32 30 32 35 2D 30 37 2D 31 30 20 30 39 3A 35 38 3A 35 32 2E 37 37 32 33 39 35]               |train_live_status_stream_data|0        |7     |2025-07-10 20:26:53.816|0            |\n",
      "|NULL|[62 39 38 30 65 37 36 30 2D 39 64 64 37 2D 34 34 66 63 2D 39 31 37 64 2D 39 32 64 64 34 36 30 61 32 64 33 62 2C 31 32 33 37 37 31 39 2C 44 65 70 61 72 74 75 72 65 2C 56 52 2C 30 2C 31 30 34 36 2C 33 2C 6E 61 6E 2C 6E 61 6E 2C 30 32 3A 33 35 2C 30 33 3A 32 34 2C 32 30 32 35 2D 30 37 2D 31 30 20 30 39 3A 35 38 3A 35 32 2E 37 37 33 33 32 33]                  |train_live_status_stream_data|0        |8     |2025-07-10 20:26:59.834|0            |\n",
      "|NULL|[39 32 38 63 37 30 33 37 2D 34 61 66 37 2D 34 64 35 32 2D 39 34 36 38 2D 30 39 63 64 34 33 32 35 32 62 31 31 2C 39 38 31 38 33 35 36 2C 44 65 70 61 72 74 75 72 65 2C 4E 56 52 44 2C 30 2C 36 39 35 2C 33 2C 6E 61 6E 2C 6E 61 6E 2C 31 39 3A 34 38 2C 31 39 3A 34 38 2C 32 30 32 35 2D 30 37 2D 31 30 20 30 39 3A 35 38 3A 35 32 2E 37 37 33 39 30 37]               |train_live_status_stream_data|0        |9     |2025-07-10 20:27:03.848|0            |\n",
      "|NULL|[36 30 33 36 65 38 38 34 2D 34 33 32 66 2D 34 37 30 31 2D 61 37 33 38 2D 30 66 37 38 39 34 64 30 33 35 37 63 2C 31 30 36 33 32 31 33 2C 44 65 70 61 72 74 75 72 65 2C 42 53 52 2F 42 53 2C 30 2C 38 31 31 2C 34 2C 6E 61 6E 2C 6E 61 6E 2C 31 35 3A 31 39 2C 31 35 3A 32 34 2C 32 30 32 35 2D 30 37 2D 31 30 20 30 39 3A 35 38 3A 35 32 2E 37 37 34 31 39 35]         |train_live_status_stream_data|0        |10    |2025-07-10 20:27:05.852|0            |\n",
      "|NULL|[61 62 63 35 34 63 61 31 2D 39 65 32 65 2D 34 30 30 30 2D 61 64 33 37 2D 61 31 62 64 62 35 66 33 65 62 39 63 2C 39 36 33 39 36 39 38 2C 44 65 70 61 72 74 75 72 65 2C 54 4B 4E 47 2C 30 2C 37 34 34 2C 33 2C 6E 61 6E 2C 6E 61 6E 2C 30 30 3A 30 36 2C 30 30 3A 30 36 2C 32 30 32 35 2D 30 37 2D 31 30 20 30 39 3A 35 38 3A 35 32 2E 37 37 34 34 37 39]               |train_live_status_stream_data|0        |11    |2025-07-10 20:27:07.855|0            |\n",
      "|NULL|[38 63 65 33 36 32 62 35 2D 36 64 63 63 2D 34 64 39 65 2D 61 66 32 31 2D 64 66 66 61 36 37 31 34 37 62 31 63 2C 36 38 37 39 32 33 33 2C 44 65 70 61 72 74 75 72 65 2C 44 2F 44 52 2F 44 44 52 2C 30 2C 31 36 31 32 2C 31 2C 6E 61 6E 2C 6E 61 6E 2C 30 38 3A 31 38 2C 30 38 3A 31 38 2C 32 30 32 35 2D 30 37 2D 31 30 20 30 39 3A 35 38 3A 35 32 2E 37 37 35 34 33 36]|train_live_status_stream_data|0        |12    |2025-07-10 20:27:13.881|0            |\n",
      "|NULL|[39 34 35 64 33 30 63 61 2D 61 32 33 39 2D 34 35 65 61 2D 39 38 64 61 2D 63 31 65 65 66 33 65 38 32 32 36 37 2C 39 37 39 39 30 31 39 2C 44 65 70 61 72 74 75 72 65 2C 56 44 4C 52 2C 30 2C 31 36 34 39 2C 31 2C 6E 61 6E 2C 6E 61 6E 2C 30 32 3A 30 37 2C 30 32 3A 31 34 2C 32 30 32 35 2D 30 37 2D 31 30 20 30 39 3A 35 38 3A 35 32 2E 37 37 35 37 37 31]            |train_live_status_stream_data|0        |13    |2025-07-10 20:27:15.887|0            |\n",
      "|NULL|[33 34 37 65 33 30 39 61 2D 64 34 65 62 2D 34 38 35 65 2D 62 39 39 34 2D 37 64 34 32 31 35 61 64 31 65 36 35 2C 31 33 37 31 35 36 33 2C 44 65 70 61 72 74 75 72 65 2C 4B 4C 59 2C 30 2C 31 38 32 35 2C 31 2C 6E 61 6E 2C 6E 61 6E 2C 30 33 3A 33 31 2C 30 33 3A 33 31 2C 32 30 32 35 2D 30 37 2D 31 30 20 30 39 3A 35 38 3A 35 32 2E 37 37 37 30 38 38]               |train_live_status_stream_data|0        |14    |2025-07-10 20:27:23.917|0            |\n",
      "|NULL|[62 63 38 37 31 33 36 31 2D 30 38 30 32 2D 34 66 62 35 2D 62 63 30 65 2D 36 65 63 63 32 61 66 39 39 35 66 36 2C 36 34 30 34 39 31 33 2C 44 65 70 61 72 74 75 72 65 2C 4D 54 4E 2C 30 2C 35 31 32 2C 31 2C 6E 61 6E 2C 6E 61 6E 2C 31 35 3A 31 39 2C 31 35 3A 31 39 2C 32 30 32 35 2D 30 37 2D 31 30 20 30 39 3A 35 38 3A 35 32 2E 37 37 37 39 36 37]                  |train_live_status_stream_data|0        |15    |2025-07-10 20:27:29.94 |0            |\n",
      "|NULL|[62 61 62 35 34 64 35 32 2D 65 65 32 36 2D 34 37 31 61 2D 38 35 32 37 2D 39 37 63 39 66 33 62 31 30 66 33 39 2C 32 35 38 32 36 36 30 2C 44 65 70 61 72 74 75 72 65 2C 53 57 44 56 2C 30 2C 31 32 39 2C 34 2C 6E 61 6E 2C 6E 61 6E 2C 30 37 3A 35 34 2C 30 38 3A 34 34 2C 32 30 32 35 2D 30 37 2D 31 30 20 30 39 3A 35 38 3A 35 32 2E 37 37 38 32 39 38]               |train_live_status_stream_data|0        |16    |2025-07-10 20:27:31.945|0            |\n",
      "|NULL|[31 33 38 35 32 61 39 38 2D 64 66 66 63 2D 34 61 37 37 2D 61 39 66 36 2D 37 63 31 65 63 34 37 39 65 37 37 38 2C 33 32 39 39 32 38 36 2C 44 65 70 61 72 74 75 72 65 2C 50 52 2C 30 2C 34 30 31 2C 33 2C 6E 61 6E 2C 6E 61 6E 2C 31 33 3A 31 39 2C 31 33 3A 32 39 2C 32 30 32 35 2D 30 37 2D 31 30 20 30 39 3A 35 38 3A 35 32 2E 37 37 38 36 30 30]                     |train_live_status_stream_data|0        |17    |2025-07-10 20:27:33.956|0            |\n",
      "|NULL|[33 64 66 32 65 32 36 38 2D 36 37 66 61 2D 34 65 30 39 2D 39 30 62 66 2D 33 30 61 37 37 30 30 32 36 34 61 31 2C 31 35 37 31 33 36 38 2C 44 65 70 61 72 74 75 72 65 2C 43 2F 43 48 2C 30 2C 31 34 37 33 2C 35 2C 6E 61 6E 2C 6E 61 6E 2C 31 30 3A 33 31 2C 31 30 3A 33 31 2C 32 30 32 35 2D 30 37 2D 31 30 20 30 39 3A 35 38 3A 35 32 2E 37 37 39 38 31 34]            |train_live_status_stream_data|0        |18    |2025-07-10 20:27:41.981|0            |\n",
      "|NULL|[63 66 36 33 32 35 33 62 2D 63 39 32 32 2D 34 38 32 65 2D 39 31 61 32 2D 30 32 36 30 37 30 36 64 33 61 66 32 2C 32 33 37 32 33 33 30 2C 44 65 70 61 72 74 75 72 65 2C 4D 44 44 2C 30 2C 31 38 33 35 2C 33 2C 6E 61 6E 2C 6E 61 6E 2C 31 31 3A 31 38 2C 31 31 3A 31 38 2C 32 30 32 35 2D 30 37 2D 31 30 20 30 39 3A 35 38 3A 35 32 2E 37 38 31 36 38 38]               |train_live_status_stream_data|0        |19    |2025-07-10 20:27:54.019|0            |\n",
      "+----+----------------------------------------------------------------------------------------------------------------------------------------------------------------------------------------------------------------------------------------------------------------------------------------------------------------------------------------------------------------------+-----------------------------+---------+------+-----------------------+-------------+\n",
      "only showing top 20 rows\n"
     ]
    }
   ],
   "source": [
    "kafka_df.show(truncate=False)"
   ]
  },
  {
   "cell_type": "code",
   "execution_count": 20,
   "id": "8f19fea8",
   "metadata": {},
   "outputs": [
    {
     "name": "stdout",
     "output_type": "stream",
     "text": [
      "+-----------------------------------------------------------------------------------------------------------------------+\n",
      "|value                                                                                                                  |\n",
      "+-----------------------------------------------------------------------------------------------------------------------+\n",
      "|17b5b0e8-38b0-4665-afb0-1c04be499483,5558384,Departure,PR,0,1243,4,nan,nan,05:27,06:04,2025-07-10 09:58:52.767700      |\n",
      "|8648ec81-323d-4cdd-9d4d-de079fc378e9,5499299,Departure,MSD,0,568,3,nan,nan,14:15,14:45,2025-07-10 09:58:52.768002      |\n",
      "|43a648c0-0051-40c4-8b3e-9dba997ecba6,2209869,Departure,G,0,1184,3,nan,nan,03:33,03:33,2025-07-10 09:58:52.768613       |\n",
      "|d8f2fb2e-675e-4a5c-9d89-5d40033f56d5,4437388,Departure,GV,0,1622,3,nan,nan,21:32,21:32,2025-07-10 09:58:52.769550      |\n",
      "|aa9a270d-a144-418b-878d-cffe251c49c4,8617405,Departure,KJMG,0,1298,4,nan,nan,06:28,06:28,2025-07-10 09:58:52.769839    |\n",
      "|5b5aeb67-79fb-4ec0-b3a2-0049a19e9b1a,7626554,Departure,D/DR/DDR,0,1485,4,nan,nan,10:46,11:25,2025-07-10 09:58:52.770835|\n",
      "|cf8098ab-bade-445b-92d8-27a7bc15250e,8908442,Departure,VR,0,265,3,nan,nan,16:56,16:56,2025-07-10 09:58:52.771491       |\n",
      "|f719b969-f953-48c5-8266-db9ff79b73c1,1757164,Departure,TNA,0,1611,2,nan,nan,00:24,00:24,2025-07-10 09:58:52.772395     |\n",
      "|b980e760-9dd7-44fc-917d-92dd460a2d3b,1237719,Departure,VR,0,1046,3,nan,nan,02:35,03:24,2025-07-10 09:58:52.773323      |\n",
      "|928c7037-4af7-4d52-9468-09cd43252b11,9818356,Departure,NVRD,0,695,3,nan,nan,19:48,19:48,2025-07-10 09:58:52.773907     |\n",
      "|6036e884-432f-4701-a738-0f7894d0357c,1063213,Departure,BSR/BS,0,811,4,nan,nan,15:19,15:24,2025-07-10 09:58:52.774195   |\n",
      "|abc54ca1-9e2e-4000-ad37-a1bdb5f3eb9c,9639698,Departure,TKNG,0,744,3,nan,nan,00:06,00:06,2025-07-10 09:58:52.774479     |\n",
      "|8ce362b5-6dcc-4d9e-af21-dffa67147b1c,6879233,Departure,D/DR/DDR,0,1612,1,nan,nan,08:18,08:18,2025-07-10 09:58:52.775436|\n",
      "|945d30ca-a239-45ea-98da-c1eef3e82267,9799019,Departure,VDLR,0,1649,1,nan,nan,02:07,02:14,2025-07-10 09:58:52.775771    |\n",
      "|347e309a-d4eb-485e-b994-7d4215ad1e65,1371563,Departure,KLY,0,1825,1,nan,nan,03:31,03:31,2025-07-10 09:58:52.777088     |\n",
      "|bc871361-0802-4fb5-bc0e-6ecc2af995f6,6404913,Departure,MTN,0,512,1,nan,nan,15:19,15:19,2025-07-10 09:58:52.777967      |\n",
      "|bab54d52-ee26-471a-8527-97c9f3b10f39,2582660,Departure,SWDV,0,129,4,nan,nan,07:54,08:44,2025-07-10 09:58:52.778298     |\n",
      "|13852a98-dffc-4a77-a9f6-7c1ec479e778,3299286,Departure,PR,0,401,3,nan,nan,13:19,13:29,2025-07-10 09:58:52.778600       |\n",
      "|3df2e268-67fa-4e09-90bf-30a7700264a1,1571368,Departure,C/CH,0,1473,5,nan,nan,10:31,10:31,2025-07-10 09:58:52.779814    |\n",
      "|cf63253b-c922-482e-91a2-0260706d3af2,2372330,Departure,MDD,0,1835,3,nan,nan,11:18,11:18,2025-07-10 09:58:52.781688     |\n",
      "+-----------------------------------------------------------------------------------------------------------------------+\n",
      "only showing top 20 rows\n"
     ]
    }
   ],
   "source": [
    "val_Df = kafka_df.selectExpr(\"CAST(value AS STRING)\")\n",
    "exploded_df = val_Df\\\n",
    "    .withColumn(\"record\",from_json(col(\"value\"), live_data_schema))\\\n",
    "\n",
    "\n",
    "val_Df.show(truncate=False)"
   ]
  },
  {
   "cell_type": "code",
   "execution_count": null,
   "id": "8b8d645c",
   "metadata": {},
   "outputs": [],
   "source": [
    "current_date = datetime.now().date()\n",
    "\n",
    "kafka_df.writeStream \\\n",
    "    .format(\"delta\") \\\n",
    "    .outputMode(\"append\") \\\n",
    "    .trigger(processingTime='5 seconds') \\\n",
    "    .option(\"checkpointLocation\", f\"raw_data/raw_live_data/{current_date}/checkpoints\") \\\n",
    "    .option(\"truncate\", \"false\") \\\n",
    "    .start(f\"raw_data/raw_live_data/{current_date}/trainlivestatus\") "
   ]
  }
 ],
 "metadata": {
  "kernelspec": {
   "display_name": ".venv",
   "language": "python",
   "name": "python3"
  },
  "language_info": {
   "codemirror_mode": {
    "name": "ipython",
    "version": 3
   },
   "file_extension": ".py",
   "mimetype": "text/x-python",
   "name": "python",
   "nbconvert_exporter": "python",
   "pygments_lexer": "ipython3",
   "version": "3.13.2"
  }
 },
 "nbformat": 4,
 "nbformat_minor": 5
}
