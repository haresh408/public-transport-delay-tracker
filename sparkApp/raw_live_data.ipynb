{
 "cells": [
  {
   "cell_type": "markdown",
   "id": "cbf8cac0",
   "metadata": {},
   "source": [
    "RAW DATA PULLING FROM KAFKA AS LIVE AND STORING IN DELTA FORMAT"
   ]
  },
  {
   "cell_type": "code",
   "execution_count": 1,
   "id": "6528eb2d",
   "metadata": {},
   "outputs": [],
   "source": [
    "from pyspark.sql import SparkSession\n",
    "from pyspark.sql.types import *\n",
    "from pyspark.sql.functions import *\n",
    "from datetime import datetime"
   ]
  },
  {
   "cell_type": "code",
   "execution_count": 2,
   "id": "605cdeef",
   "metadata": {},
   "outputs": [],
   "source": [
    "#Spark session with Delta Lake and Kafka support\n",
    "\n",
    "spark = SparkSession.builder \\\n",
    "    .appName(\"raw_train_live_status\") \\\n",
    "    .config(\"spark.jars.packages\",\n",
    "            \"org.apache.spark:spark-sql-kafka-0-10_2.13:4.0.0,\"\n",
    "            \"org.apache.kafka:kafka-clients:3.4.0,\"\n",
    "            \"io.delta:delta-spark_2.13:4.0.0\") \\\n",
    "    .config(\"spark.sql.extensions\",\"io.delta.sql.DeltaSparkSessionExtension\") \\\n",
    "    .config(\"spark.sql.catalog.spark_catalog\",\"org.apache.spark.sql.delta.catalog.DeltaCatalog\") \\\n",
    "    .config(\"spark.databricks.delta.properties.defaults.enableDeletionVectors\", \"true\") \\\n",
    "    .master(\"local[*]\") \\\n",
    "    .getOrCreate()"
   ]
  },
  {
   "cell_type": "code",
   "execution_count": 3,
   "id": "c60d6547",
   "metadata": {},
   "outputs": [],
   "source": [
    "#live_data_schema\n",
    "\n",
    "live_data_schema = StructType([\n",
    "    StructField(\"eventId\",StringType(),True),\n",
    "    StructField(\"trainId\",StringType(),True),\n",
    "    StructField(\"eventType\",StringType(),True),\n",
    "    StructField(\"stationCode\",StringType(),True),\n",
    "    StructField(\"distanceCovered\",StringType(),True),\n",
    "    StructField(\"totalDistance\",StringType(),True),\n",
    "    StructField(\"noOfDays\",StringType(),True),\n",
    "    StructField(\"actualArrivalTime\",StringType(),True),\n",
    "    StructField(\"expectedArrivalTime\",StringType(),True),\n",
    "    StructField(\"actualDepartureTime\",StringType(),True),\n",
    "    StructField(\"expectedDepartureTime\",StringType(),True),\n",
    "    StructField(\"createdDate\",StringType(),True)\n",
    "])"
   ]
  },
  {
   "cell_type": "code",
   "execution_count": 4,
   "id": "c2dc84e5",
   "metadata": {},
   "outputs": [],
   "source": [
    "# Read data from Kafka topic\n",
    "\n",
    "kafka_df = spark.readStream \\\n",
    "    .format(\"kafka\") \\\n",
    "    .option(\"kafka.bootstrap.servers\", \"localhost:9092\") \\\n",
    "    .option(\"subscribe\", \"train_live_status_stream_data\") \\\n",
    "    .option(\"startingOffsets\", \"earliest\") \\\n",
    "    .load()\n"
   ]
  },
  {
   "cell_type": "code",
   "execution_count": 5,
   "id": "8f19fea8",
   "metadata": {},
   "outputs": [],
   "source": [
    "val_Df = kafka_df.selectExpr(\"CAST(value AS STRING)\")\n",
    "\n",
    "exploded_df = val_Df\\\n",
    "    .withColumn(\"record\",from_json(col(\"value\"), live_data_schema))\\\n",
    "    .select(\"record.*\")\n",
    "\n"
   ]
  },
  {
   "cell_type": "code",
   "execution_count": null,
   "id": "8b8d645c",
   "metadata": {},
   "outputs": [],
   "source": [
    "current_date = datetime.now().date()\n",
    "\n",
    "exploded_df.writeStream \\\n",
    "    .format(\"delta\") \\\n",
    "    .outputMode(\"append\") \\\n",
    "    .trigger(processingTime='5 seconds') \\\n",
    "    .option(\"checkpointLocation\", f\"raw_data/raw_live_data/{current_date}/checkpoints\") \\\n",
    "    .option(\"truncate\", \"false\") \\\n",
    "    .start(f\"raw_data/raw_live_data/{current_date}/trainlivestatus\")\\\n",
    "    .awaitTermination() \n",
    "\n",
    "# use awaitTermination() to keep the stream running and interrupt the python kernel whenever needed\n",
    "# or use stop() to stop the stream when needed"
   ]
  },
  {
   "cell_type": "code",
   "execution_count": null,
   "id": "43204abc",
   "metadata": {},
   "outputs": [],
   "source": [
    "\n",
    "# ONLY FOR TESTING PURPOSES\n",
    "\n",
    "# current_date = datetime.now().date()\n",
    "# df = spark.read.format(\"delta\") \\\n",
    "#     .load(f\"file:///d:/SparkFolder/public-transport-delay-tracker/sparkApp/raw_data/raw_live_data/{current_date}/trainlivestatus\")\n",
    "# df.show()"
   ]
  }
 ],
 "metadata": {
  "kernelspec": {
   "display_name": ".venv",
   "language": "python",
   "name": "python3"
  },
  "language_info": {
   "codemirror_mode": {
    "name": "ipython",
    "version": 3
   },
   "file_extension": ".py",
   "mimetype": "text/x-python",
   "name": "python",
   "nbconvert_exporter": "python",
   "pygments_lexer": "ipython3",
   "version": "3.10.0"
  }
 },
 "nbformat": 4,
 "nbformat_minor": 5
}
